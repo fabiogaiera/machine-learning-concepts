{
 "cells": [
  {
   "cell_type": "markdown",
   "id": "dd4ae2eb",
   "metadata": {},
   "source": [
    "# Categorical Data\n",
    "\n",
    "Features having a specific set of possible values. For example, consider a categorical feature named **traffic-light-state**, which can only have one of the following three possible values:\n",
    "\n",
    "- red\n",
    "- yellow\n",
    "- green\n",
    "\n",
    "By representing **traffic-light-state** as a categorical feature, a model can learn the differing impacts of red, green, and yellow on driver behavior.\n",
    "\n",
    "Categorical features are sometimes called discrete features.\n",
    "\n",
    "Contrast with numerical data."
   ]
  }
 ],
 "metadata": {
  "kernelspec": {
   "display_name": "Python 3 (ipykernel)",
   "language": "python",
   "name": "python3"
  },
  "language_info": {
   "codemirror_mode": {
    "name": "ipython",
    "version": 3
   },
   "file_extension": ".py",
   "mimetype": "text/x-python",
   "name": "python",
   "nbconvert_exporter": "python",
   "pygments_lexer": "ipython3",
   "version": "3.9.13"
  }
 },
 "nbformat": 4,
 "nbformat_minor": 5
}

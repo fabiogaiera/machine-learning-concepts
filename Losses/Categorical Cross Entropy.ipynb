{
 "cells": [
  {
   "cell_type": "markdown",
   "id": "3cab3deb",
   "metadata": {},
   "source": [
    "## Categorical Cross Entropy"
   ]
  },
  {
   "cell_type": "code",
   "execution_count": 16,
   "id": "c04806e8",
   "metadata": {},
   "outputs": [],
   "source": [
    "# https://www.tensorflow.org/api_docs/python/tf/keras/losses/CategoricalCrossentropy"
   ]
  },
  {
   "cell_type": "markdown",
   "id": "9e5cccd8",
   "metadata": {},
   "source": [
    "#### Computes the crossentropy loss between the labels and predictions.\n",
    "\n",
    "Use this crossentropy loss function when there are two or more label classes. We expect labels to be provided in a \n",
    "`one_hot` representation. If you want to provide labels as integers, please use `SparseCategoricalCrossentropy` loss. There should be `# classes` floating point values per feature."
   ]
  },
  {
   "cell_type": "code",
   "execution_count": 1,
   "id": "ab421ae0",
   "metadata": {},
   "outputs": [],
   "source": [
    "import tensorflow as tf"
   ]
  },
  {
   "cell_type": "code",
   "execution_count": 21,
   "id": "6fafe512",
   "metadata": {},
   "outputs": [
    {
     "data": {
      "text/plain": [
       "0.020254754"
      ]
     },
     "execution_count": 21,
     "metadata": {},
     "output_type": "execute_result"
    }
   ],
   "source": [
    "# Example 1\n",
    "y_true = [[0, 1, 0], [0, 0, 1]] # Equivalent to [1, 2]\n",
    "y_pred = [[0.03, 0.97, 0], [0.01, 0, 0.99]] \n",
    "cce = tf.keras.losses.CategoricalCrossentropy()\n",
    "cce(y_true, y_pred).numpy()"
   ]
  },
  {
   "cell_type": "code",
   "execution_count": 24,
   "id": "35920087",
   "metadata": {},
   "outputs": [
    {
     "data": {
      "text/plain": [
       "0.23101775"
      ]
     },
     "execution_count": 24,
     "metadata": {},
     "output_type": "execute_result"
    }
   ],
   "source": [
    "# Example 2\n",
    "y_true = [[0, 1, 0], [0, 0, 1]] # Equivalent to [1, 2]\n",
    "y_pred = [[0.1, 0.9, 0], [0.3, 0, 0.7]] \n",
    "cce = tf.keras.losses.CategoricalCrossentropy()\n",
    "cce(y_true, y_pred).numpy()"
   ]
  },
  {
   "cell_type": "markdown",
   "id": "31684888",
   "metadata": {},
   "source": [
    "Notice in `Example 1` the loss is smaller than in `Example 2`.  \n",
    "\n",
    "- `y_pred` from `Example 1` contains values that are very close to `y_true`.\n",
    "- `y_pred` from `Example 2` contains values that aren't so close to `y_true`."
   ]
  }
 ],
 "metadata": {
  "kernelspec": {
   "display_name": "Python 3 (ipykernel)",
   "language": "python",
   "name": "python3"
  },
  "language_info": {
   "codemirror_mode": {
    "name": "ipython",
    "version": 3
   },
   "file_extension": ".py",
   "mimetype": "text/x-python",
   "name": "python",
   "nbconvert_exporter": "python",
   "pygments_lexer": "ipython3",
   "version": "3.9.13"
  }
 },
 "nbformat": 4,
 "nbformat_minor": 5
}

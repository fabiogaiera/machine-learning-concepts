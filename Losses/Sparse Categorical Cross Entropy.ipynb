{
 "cells": [
  {
   "cell_type": "markdown",
   "id": "3cab3deb",
   "metadata": {},
   "source": [
    "## Sparse Categorical Cross Entropy"
   ]
  },
  {
   "cell_type": "code",
   "execution_count": 1,
   "id": "441a1673",
   "metadata": {},
   "outputs": [],
   "source": [
    "# https://www.tensorflow.org/api_docs/python/tf/keras/losses/SparseCategoricalCrossentropy"
   ]
  },
  {
   "cell_type": "markdown",
   "id": "2f046404",
   "metadata": {},
   "source": [
    "#### Computes the crossentropy loss between the labels and predictions.\n",
    "\n",
    "Use this crossentropy loss function when there are two or more label classes. We expect labels to be provided as integers. If you want to provide labels using `one-hot` representation, please use `CategoricalCrossentropy` loss. There should be `# classes` floating point values per feature for `y_pred` and a single floating point value per feature for `y_true`."
   ]
  },
  {
   "cell_type": "code",
   "execution_count": 2,
   "id": "ee244e70",
   "metadata": {},
   "outputs": [],
   "source": [
    "import tensorflow as tf"
   ]
  },
  {
   "cell_type": "code",
   "execution_count": 3,
   "id": "c660b3b6",
   "metadata": {},
   "outputs": [
    {
     "data": {
      "text/plain": [
       "0.016853359"
      ]
     },
     "execution_count": 3,
     "metadata": {},
     "output_type": "execute_result"
    }
   ],
   "source": [
    "# Example 1\n",
    "y_true = [0, 1, 2] # Equivalent to [[1, 0, 0], [0, 1, 0], [0, 0, 1]]\n",
    "y_pred = [[0.99, 0, 0.01], [0.03, 0.97, 0], [0.01, 0, 0.99]] \n",
    "scce = tf.keras.losses.SparseCategoricalCrossentropy()\n",
    "scce(y_true, y_pred).numpy()"
   ]
  },
  {
   "cell_type": "code",
   "execution_count": 4,
   "id": "82eb1ae3",
   "metadata": {},
   "outputs": [
    {
     "data": {
      "text/plain": [
       "0.1891321"
      ]
     },
     "execution_count": 4,
     "metadata": {},
     "output_type": "execute_result"
    }
   ],
   "source": [
    "# Example 2\n",
    "y_true = [0, 1, 2] # Equivalent to [[1, 0, 0], [0, 1, 0], [0, 0, 1]]\n",
    "y_pred = [[0.9, 0, 0.1], [0.1, 0.9, 0], [0.3, 0, 0.7]] \n",
    "scce = tf.keras.losses.SparseCategoricalCrossentropy()\n",
    "scce(y_true, y_pred).numpy()"
   ]
  },
  {
   "cell_type": "markdown",
   "id": "b214c2c3",
   "metadata": {},
   "source": [
    "Notice that in `Example 1` the loss is *smaller* than in `Example 2`.  \n",
    "\n",
    "- `y_pred` from `Example 1` contains values that are very close to `y_true`.\n",
    "- `y_pred` from `Example 2` contains values that aren't so close to `y_true`."
   ]
  }
 ],
 "metadata": {
  "kernelspec": {
   "display_name": "Python 3 (ipykernel)",
   "language": "python",
   "name": "python3"
  },
  "language_info": {
   "codemirror_mode": {
    "name": "ipython",
    "version": 3
   },
   "file_extension": ".py",
   "mimetype": "text/x-python",
   "name": "python",
   "nbconvert_exporter": "python",
   "pygments_lexer": "ipython3",
   "version": "3.9.13"
  }
 },
 "nbformat": 4,
 "nbformat_minor": 5
}

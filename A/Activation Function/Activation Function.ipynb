{
 "cells": [
  {
   "cell_type": "markdown",
   "id": "75632e68",
   "metadata": {},
   "source": [
    "### Activation Function\n",
    "\n",
    "A function that enables neural networks to learn nonlinear (complex) relationships between features and the label.\n",
    "\n",
    "Popular activation functions include:\n",
    "\n",
    "- ReLU\n",
    "- Sigmoid"
   ]
  }
 ],
 "metadata": {
  "kernelspec": {
   "display_name": "Python 3 (ipykernel)",
   "language": "python",
   "name": "python3"
  },
  "language_info": {
   "codemirror_mode": {
    "name": "ipython",
    "version": 3
   },
   "file_extension": ".py",
   "mimetype": "text/x-python",
   "name": "python",
   "nbconvert_exporter": "python",
   "pygments_lexer": "ipython3",
   "version": "3.9.13"
  }
 },
 "nbformat": 4,
 "nbformat_minor": 5
}

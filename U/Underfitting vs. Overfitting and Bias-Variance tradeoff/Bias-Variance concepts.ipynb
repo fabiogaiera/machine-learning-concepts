{
 "cells": [
  {
   "cell_type": "markdown",
   "id": "b572429d",
   "metadata": {},
   "source": [
    "### Overfitting and Underfitting\n",
    "\n",
    "**Overfitting** is a common problem in machine learning, where a model performs well on training data but does not generalize well to unseen data (testing data). If a model suffers from overfitting, we also say that the model has a high variance, which can be caused by having too many parameters, leading to a model that is too complex given the underlying data. \n",
    "\n",
    "Similarly, our model can also suffer from **underfitting** (high bias), which means that our model is not complex enough to capture the pattern in the training data well and therefore also suffers from low performance on unseen data."
   ]
  },
  {
   "cell_type": "markdown",
   "id": "250a0e7e",
   "metadata": {},
   "source": [
    "### The bias-variance tradeoff\n",
    "\n",
    "In the context of machine learning models, **variance** measures the consistency (or variability) of the model prediction for classifying a particular example if we retrain the model multiple times, for example, on differents subsets of the training dataset. We can say that the model is sensitive to the randomness in the training data.\n",
    "\n",
    "In contrast, **bias** measures how far off the predictions are from the correct values in general if we rebuild the model multiple times on different training datasets; bias is the measure of the systematic error that is not due to randomness.\n",
    "\n",
    "One way of finding a good bias-variance tradeoff is to tune the complexity of the model via regularization. It is a very useful method for handling collinearity (high correlation among features), filtering out noise from data, and eventually preventing overfitting."
   ]
  }
 ],
 "metadata": {
  "kernelspec": {
   "display_name": "Python 3 (ipykernel)",
   "language": "python",
   "name": "python3"
  },
  "language_info": {
   "codemirror_mode": {
    "name": "ipython",
    "version": 3
   },
   "file_extension": ".py",
   "mimetype": "text/x-python",
   "name": "python",
   "nbconvert_exporter": "python",
   "pygments_lexer": "ipython3",
   "version": "3.9.13"
  }
 },
 "nbformat": 4,
 "nbformat_minor": 5
}
